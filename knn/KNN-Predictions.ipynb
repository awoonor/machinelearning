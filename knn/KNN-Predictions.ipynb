{
 "cells": [
  {
   "cell_type": "markdown",
   "metadata": {},
   "source": [
    "# Machine Learning for Absolute Beginners\n",
    "## KNN Plot of Predictions"
   ]
  },
  {
   "cell_type": "markdown",
   "metadata": {},
   "source": [
    "### 0. Import Libraries"
   ]
  },
  {
   "cell_type": "code",
   "execution_count": null,
   "metadata": {},
   "outputs": [],
   "source": [
    "import pandas as pd\n",
    "import numpy as np\n",
    "\n",
    "import matplotlib.pyplot as plt\n",
    "import seaborn as sns"
   ]
  },
  {
   "cell_type": "markdown",
   "metadata": {},
   "source": [
    "### 1. Load Data"
   ]
  },
  {
   "cell_type": "code",
   "execution_count": null,
   "metadata": {},
   "outputs": [],
   "source": [
    "df = pd.read_csv(\"data/loans.csv\").round(1)"
   ]
  },
  {
   "cell_type": "code",
   "execution_count": null,
   "metadata": {},
   "outputs": [],
   "source": [
    "df.head()"
   ]
  },
  {
   "cell_type": "markdown",
   "metadata": {},
   "source": [
    "### 2. Plot Data and Candidate Points for Prediction"
   ]
  },
  {
   "cell_type": "code",
   "execution_count": null,
   "metadata": {},
   "outputs": [],
   "source": [
    "f, ax = plt.subplots(nrows=1, ncols=1,figsize=(8,8))\n",
    "sns.scatterplot(data=df,x=\"Income\",y=\"Credit_Score\",hue=\"Status\",ax=ax, palette=['red','green'])\n",
    "ax.set_xlabel(\"Income\", fontsize=14)\n",
    "ax.set_ylabel(\"Credit Score\", fontsize=14)\n",
    "\n",
    "plt.plot(123000,510,'bo',markersize=12)\n",
    "plt.plot(99000,610,'bo',markersize=12)\n",
    "plt.plot(82000,530,'bo',markersize=12)\n",
    "plt.plot(90000,670,'bo',markersize=12)"
   ]
  },
  {
   "cell_type": "markdown",
   "metadata": {},
   "source": [
    "### 3. Plot Predictions (K=3)"
   ]
  },
  {
   "cell_type": "code",
   "execution_count": null,
   "metadata": {},
   "outputs": [],
   "source": [
    "f, ax = plt.subplots(nrows=1, ncols=1,figsize=(8,8))\n",
    "sns.scatterplot(data=df,x=\"Income\",y=\"Credit_Score\",hue=\"Status\",ax=ax, palette=['red','green'])\n",
    "ax.set_xlabel(\"Income\", fontsize=14)\n",
    "ax.set_ylabel(\"Credit Score\", fontsize=14)\n",
    "\n",
    "plt.plot(123000,510,'green',markersize=30, marker=\"D\", markeredgewidth=3, markeredgecolor='w')\n",
    "plt.plot(99000,610,'green',markersize=35, marker=\"D\",markeredgewidth=3,markeredgecolor='w')\n",
    "plt.plot(82000,530,'red',markersize=35, marker=\"X\", markeredgewidth=3, markeredgecolor='w')\n",
    "plt.plot(90000,670,'red',markersize=35, marker=\"X\",markeredgewidth=3, markeredgecolor='w')"
   ]
  },
  {
   "cell_type": "markdown",
   "metadata": {},
   "source": [
    "### 4. Plot Predictions (K=5)"
   ]
  },
  {
   "cell_type": "code",
   "execution_count": null,
   "metadata": {},
   "outputs": [],
   "source": [
    "f, ax = plt.subplots(nrows=1, ncols=1,figsize=(8,8))\n",
    "sns.scatterplot(data=df,x=\"Income\",y=\"Credit_Score\",hue=\"Status\",ax=ax, palette=['red','green'])\n",
    "ax.set_xlabel(\"Income\", fontsize=14)\n",
    "ax.set_ylabel(\"Credit Score\", fontsize=14)\n",
    "\n",
    "plt.plot(123000,510,'green',markersize=30, marker=\"D\", markeredgewidth=3, markeredgecolor='w')\n",
    "plt.plot(99000,610,'red',markersize=35, marker=\"X\",markeredgewidth=3,markeredgecolor='w')\n",
    "plt.plot(82000,530,'red',markersize=35, marker=\"X\", markeredgewidth=3, markeredgecolor='w')\n",
    "plt.plot(90000,670,'red',markersize=35, marker=\"X\",markeredgewidth=3, markeredgecolor='w')"
   ]
  }
 ],
 "metadata": {
  "kernelspec": {
   "display_name": "Python 3 (ipykernel)",
   "language": "python",
   "name": "python3"
  },
  "language_info": {
   "codemirror_mode": {
    "name": "ipython",
    "version": 3
   },
   "file_extension": ".py",
   "mimetype": "text/x-python",
   "name": "python",
   "nbconvert_exporter": "python",
   "pygments_lexer": "ipython3",
   "version": "3.9.7"
  }
 },
 "nbformat": 4,
 "nbformat_minor": 4
}
