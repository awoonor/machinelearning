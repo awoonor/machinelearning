{
 "cells": [
  {
   "cell_type": "markdown",
   "id": "766e230c",
   "metadata": {},
   "source": [
    "# Machine Learning for Absolute Beginners\n",
    "\n",
    "## Exercise: Medical Insurance - Exploratory Data Analysis"
   ]
  },
  {
   "cell_type": "markdown",
   "id": "e7a0d359",
   "metadata": {},
   "source": [
    "### 0. Import Libraries"
   ]
  },
  {
   "cell_type": "code",
   "execution_count": 1,
   "id": "3dc64355",
   "metadata": {},
   "outputs": [],
   "source": [
    "# import pandas, numpy, matplotlib and seaborn libraries\n"
   ]
  },
  {
   "cell_type": "markdown",
   "id": "96fa81d4",
   "metadata": {},
   "source": [
    "### 1. Import and Verify Data"
   ]
  },
  {
   "cell_type": "markdown",
   "id": "ac767b52",
   "metadata": {},
   "source": [
    "###### Data Dictionary\n",
    "\n",
    "- age: age of primary beneficiary\n",
    "\n",
    "- sex: insurance contractor gender, female, male\n",
    "\n",
    "- bmi: Body mass index\n",
    "\n",
    "- children: Number of children covered by health insurance / Number of dependents\n",
    "\n",
    "- smoker: Smoking\n",
    "\n",
    "- region: the beneficiary's residential area in the US, northeast, southeast, southwest, northwest.\n",
    "\n",
    "- charges: Individual medical costs billed by health insurance"
   ]
  },
  {
   "cell_type": "code",
   "execution_count": 2,
   "id": "4eb4cd2e",
   "metadata": {},
   "outputs": [],
   "source": [
    "# import insurance.csv dataset in the data subdirectory as a dataframe"
   ]
  },
  {
   "cell_type": "code",
   "execution_count": 3,
   "id": "93b4ac53",
   "metadata": {},
   "outputs": [],
   "source": [
    "# check first few records using .head() method"
   ]
  },
  {
   "cell_type": "code",
   "execution_count": 4,
   "id": "5fc2051d",
   "metadata": {},
   "outputs": [],
   "source": [
    "# use .info() method to check characteristics of dataframe"
   ]
  },
  {
   "cell_type": "markdown",
   "id": "cf0dce89",
   "metadata": {},
   "source": [
    "#### Questions\n",
    "\n",
    "- How many rows, columns in the dataframe?\n",
    "- What are the datatypes of each of the columns\n"
   ]
  },
  {
   "cell_type": "markdown",
   "id": "c45948a3",
   "metadata": {},
   "source": [
    "### 2. Plots\n",
    "\n",
    "- For continuous variables, plot distribution\n",
    "- For categorical variables, plot countplot"
   ]
  },
  {
   "cell_type": "code",
   "execution_count": 6,
   "id": "10ab526f",
   "metadata": {},
   "outputs": [],
   "source": [
    "# plot age distribution"
   ]
  },
  {
   "cell_type": "code",
   "execution_count": null,
   "id": "3a87ddaa",
   "metadata": {},
   "outputs": [],
   "source": [
    "# plot bmi distribution"
   ]
  },
  {
   "cell_type": "code",
   "execution_count": 8,
   "id": "1dbc7093",
   "metadata": {},
   "outputs": [],
   "source": [
    "# plot charges distribution"
   ]
  },
  {
   "cell_type": "code",
   "execution_count": null,
   "id": "8109dab5",
   "metadata": {},
   "outputs": [],
   "source": [
    "# plot smoker countplot"
   ]
  },
  {
   "cell_type": "code",
   "execution_count": 7,
   "id": "67f44d34",
   "metadata": {},
   "outputs": [],
   "source": [
    "# plot region countplot"
   ]
  },
  {
   "cell_type": "code",
   "execution_count": null,
   "id": "66a98abb",
   "metadata": {},
   "outputs": [],
   "source": []
  }
 ],
 "metadata": {
  "kernelspec": {
   "display_name": "Python 3 (ipykernel)",
   "language": "python",
   "name": "python3"
  },
  "language_info": {
   "codemirror_mode": {
    "name": "ipython",
    "version": 3
   },
   "file_extension": ".py",
   "mimetype": "text/x-python",
   "name": "python",
   "nbconvert_exporter": "python",
   "pygments_lexer": "ipython3",
   "version": "3.9.7"
  }
 },
 "nbformat": 4,
 "nbformat_minor": 5
}
